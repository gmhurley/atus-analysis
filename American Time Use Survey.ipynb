{
 "cells": [
  {
   "cell_type": "markdown",
   "metadata": {},
   "source": [
    "# American Time User Survey Analysis"
   ]
  },
  {
   "cell_type": "code",
   "execution_count": 1,
   "metadata": {
    "collapsed": true
   },
   "outputs": [],
   "source": [
    "import pandas as pd\n",
    "import numpy as np\n",
    "import matplotlib.pyplot as plt\n",
    "import re\n",
    "\n",
    "%matplotlib inline"
   ]
  },
  {
   "cell_type": "code",
   "execution_count": 2,
   "metadata": {
    "collapsed": false
   },
   "outputs": [],
   "source": [
    "summary = pd.read_csv('data/atussum_2014.dat')"
   ]
  },
  {
   "cell_type": "markdown",
   "metadata": {},
   "source": [
    "## Change column names to something readable"
   ]
  },
  {
   "cell_type": "code",
   "execution_count": 3,
   "metadata": {
    "collapsed": false
   },
   "outputs": [],
   "source": [
    "data_summary = summary.rename(columns={\n",
    "    'tucaseid': 'case_id',\n",
    "    'TUFINLWGT': 'stat_weight',\n",
    "    'TRYHHCHILD': 'age_youngest_child',\n",
    "    'PEEDUCA': 'high_levl_edu',\n",
    "    'PTDTRACE': 'race',\n",
    "    'PEHSPNON': 'hisp', # 1 = yes , 2 = no\n",
    "    'GTMETSTA': 'metro', # metro status - urban, suburban, etc\n",
    "    'TEAGE': 'age', # topcoded to 85. All those 80 - 84 = 80. > 85 = 85\n",
    "    'TESEX': 'sex', # 1 = male, 2 = female\n",
    "    'TELFS': 'labor_status', # 1 = employed, at work\n",
    "                             # 2 = employed, absent\n",
    "                             # 3 = unemployed - on layoff\n",
    "                             # 4 = unemployed - looking\n",
    "                             # 5 = Not in labor force\n",
    "    'TEMJOT': 'more_1_job_7_days', # 1 = yes, 2 = no\n",
    "    'TRDPFTPT': 'ft_pt', # 1 = full time, 2 = part time\n",
    "    'TESCHENR': 'school_enrolled', # 1 = yes, 2 = no\n",
    "    'TESCHLVL': 'hs_or_col', # 1 = hs, 2 = col/univ\n",
    "    'TRSPPRES': 'spouse_present', # 1 = yes, 2 = unmarried partner present, 3 = no\n",
    "    'TESPEMPNOT': 'spouse_employed', # 1 = yes, 2 = no\n",
    "    'TRERNWA': 'weekly_earnings', # the maximum value cannot be greater than 2884.61)\n",
    "    'TRCHILDNUM': 'num_of_children',\n",
    "    'TRSPFTPT': 'spouse_ft_pt',\n",
    "    'TEHRUSLT': 'weekly_hours',\n",
    "    'TUDIARYDAY': 'interview_day_of_week', # 1 = sun - 7 = sat\n",
    "    'TRHOLIDAY': 'interview_on_holiday',\n",
    "    'TRTEC': 'eldercare_time_spent',\n",
    "    'TRTHH': 'childcare_time_spent',\n",
    "    \"t010101\": \"Sleeping\",\n",
    "    \"t010102\": \"Sleeplessness\",\n",
    "    \"t010199\": \"Sleeping, n.e.c.*\",\n",
    "    \"t010201\": \"Washing, dressing and grooming oneself\",\n",
    "    \"t010299\": \"Grooming, n.e.c.*\",\n",
    "    \"t010301\": \"Health-related self care\",\n",
    "    \"t010399\": \"Self care, n.e.c.*\",\n",
    "    \"t010401\": \"Personal/Private activities\",\n",
    "    \"t010499\": \"Personal activities, n.e.c.*\",\n",
    "    \"t010501\": \"Personal emergencies\",\n",
    "    \"t010599\": \"Personal care emergencies, n.e.c.*\",\n",
    "    \"t019999\": \"Personal Care, n.e.c.*\",\n",
    "    \"t020101\": \"Interior cleaning\",\n",
    "    \"t020102\": \"Laundry\",\n",
    "    \"t020103\": \"Sewing, repairing, & maintaining textiles\",\n",
    "    \"t020104\": \"Storing interior hh items, inc. food\",\n",
    "    \"t020199\": \"Housework, n.e.c.*\",\n",
    "    \"t020201\": \"Food and drink preparation\",\n",
    "    \"t020202\": \"Food presentation\",\n",
    "    \"t020203\": \"Kitchen and food clean-up\",\n",
    "    \"t020299\": \"Food & drink prep, presentation, & clean-up, n.e.c.*\",\n",
    "    \"t020301\": \"Interior arrangement, decoration, & repairs\",\n",
    "    \"t020302\": \"Building and repairing furniture\",\n",
    "    \"t020303\": \"Heating and cooling\",\n",
    "    \"t020399\": \"Interior maintenance, repair, & decoration, n.e.c.*\",\n",
    "    \"t020401\": \"Exterior cleaning\",\n",
    "    \"t020402\": \"Exterior repair, improvements, & decoration\",\n",
    "    \"t020499\": \"Exterior maintenance, repair & decoration, n.e.c.*\",\n",
    "    \"t020501\": \"Lawn, garden, and houseplant care\",\n",
    "    \"t020502\": \"Ponds, pools, and hot tubs\",\n",
    "    \"t020599\": \"Lawn and garden, n.e.c.*\",\n",
    "    \"t020601\": \"Care for animals and pets (not veterinary care)\",\n",
    "    \"t020602\": \"Walking / exercising / playing with animals\",\n",
    "    \"t020699\": \"Pet and animal care, n.e.c.*\",\n",
    "    \"t020701\": \"Vehicle repair and maintenance (by self)\",\n",
    "    \"t020799\": \"Vehicles, n.e.c.*\",\n",
    "    \"t020801\": \"Appliance, tool, and toy set-up, repair, & maintenance (by self)\",\n",
    "    \"t020899\": \"Appliances and tools, n.e.c.*\",\n",
    "    \"t020901\": \"Financial management\",\n",
    "    \"t020902\": \"Household & personal organization and planning\",\n",
    "    \"t020903\": \"HH & personal mail & messages (except e-mail)\",\n",
    "    \"t020904\": \"HH & personal e-mail and messages\",\n",
    "    \"t020905\": \"Home security\",\n",
    "    \"t020999\": \"Household management, n.e.c.*\",\n",
    "    \"t029999\": \"Household activities, n.e.c.*\",\n",
    "    \"t030101\": \"Physical care for hh children\",\n",
    "    \"t030102\": \"Reading to/with hh children\",\n",
    "    \"t030103\": \"Playing with hh children, not sports\",\n",
    "    \"t030104\": \"Arts and crafts with hh children\",\n",
    "    \"t030105\": \"Playing sports with hh children\",\n",
    "    \"t030106\": \"Talking with/listening to hh children\",\n",
    "    \"t030108\": \"Organization & planning for hh children\",\n",
    "    \"t030109\": \"Looking after hh children (as a primary activity)\",\n",
    "    \"t030110\": \"Attending hh children's events\",\n",
    "    \"t030111\": \"Waiting for/with hh children\",\n",
    "    \"t030112\": \"Picking up/dropping off hh children\",\n",
    "    \"t030199\": \"Caring for & helping hh children, n.e.c.*\",\n",
    "    \"t030201\": \"Homework (hh children)\",\n",
    "    \"t030202\": \"Meetings and school conferences (hh children)\",\n",
    "    \"t030203\": \"Home schooling of hh children\",\n",
    "    \"t030204\": \"Waiting associated with hh children's education\",\n",
    "    \"t030299\": \"Activities related to hh child's education, n.e.c.*\",\n",
    "    \"t030301\": \"Providing medical care to hh children\",\n",
    "    \"t030302\": \"Obtaining medical care for hh children\",\n",
    "    \"t030303\": \"Waiting associated with hh children's health\",\n",
    "    \"t030399\": \"Activities related to hh child's health, n.e.c.*\",\n",
    "    \"t030401\": \"Physical care for hh adults\",\n",
    "    \"t030402\": \"Looking after hh adult (as a primary activity)\",\n",
    "    \"t030403\": \"Providing medical care to hh adult\",\n",
    "    \"t030404\": \"Obtaining medical and care services for hh adult\",\n",
    "    \"t030405\": \"Waiting associated with caring for household adults\",\n",
    "    \"t030499\": \"Caring for household adults, n.e.c.*\",\n",
    "    \"t030501\": \"Helping hh adults\",\n",
    "    \"t030502\": \"Organization & planning for hh adults\",\n",
    "    \"t030503\": \"Picking up/dropping off hh adult\",\n",
    "    \"t030504\": \"Waiting associated with helping hh adults\",\n",
    "    \"t030599\": \"Helping household adults, n.e.c.*\",\n",
    "    \"t039999\": \"Caring for & helping hh members, n.e.c.*\",\n",
    "    \"t040101\": \"Physical care for nonhh children\",\n",
    "    \"t040102\": \"Reading to/with nonhh children\",\n",
    "    \"t040103\": \"Playing with nonhh children, not sports\",\n",
    "    \"t040104\": \"Arts and crafts with nonhh children\",\n",
    "    \"t040105\": \"Playing sports with nonhh children\",\n",
    "    \"t040106\": \"Talking with/listening to nonhh children\",\n",
    "    \"t040108\": \"Organization & planning for nonhh children\",\n",
    "    \"t040109\": \"Looking after nonhh children (as primary activity)\",\n",
    "    \"t040110\": \"Attending nonhh children's events\",\n",
    "    \"t040111\": \"Waiting for/with nonhh children\",\n",
    "    \"t040112\": \"Dropping off/picking up nonhh children\",\n",
    "    \"t040199\": \"Caring for and helping nonhh children, n.e.c.*\",\n",
    "    \"t040201\": \"Homework (nonhh children)\",\n",
    "    \"t040202\": \"Meetings and school conferences (nonhh children)\",\n",
    "    \"t040203\": \"Home schooling of nonhh children\",\n",
    "    \"t040204\": \"Waiting associated with nonhh children's education\",\n",
    "    \"t040299\": \"Activities related to nonhh child's educ., n.e.c.*\",\n",
    "    \"t040301\": \"Providing medical care to nonhh children\",\n",
    "    \"t040302\": \"Obtaining medical care for nonhh children\",\n",
    "    \"t040303\": \"Waiting associated with nonhh children's health\",\n",
    "    \"t040399\": \"Activities related to nonhh child's health, n.e.c.*\",\n",
    "    \"t040401\": \"Physical care for nonhh adults\",\n",
    "    \"t040402\": \"Looking after nonhh adult (as a primary activity)\",\n",
    "    \"t040403\": \"Providing medical care to nonhh adult\",\n",
    "    \"t040404\": \"Obtaining medical and care services for nonhh adult\",\n",
    "    \"t040405\": \"Waiting associated with caring for nonhh adults\",\n",
    "    \"t040499\": \"Caring for nonhh adults, n.e.c.*\",\n",
    "    \"t040501\": \"Housework, cooking, & shopping assistance for nonhh adults\",\n",
    "    \"t040502\": \"House & lawn maintenance & repair assistance for nonhh adults\",\n",
    "    \"t040503\": \"Animal & pet care assistance for nonhh adults\",\n",
    "    \"t040504\": \"Vehicle & appliance maintenance/repair assistance for nonhh adults\",\n",
    "    \"t040505\": \"Financial management assistance for nonhh adults\",\n",
    "    \"t040506\": \"Household management & paperwork assistance for nonhh adults\",\n",
    "    \"t040507\": \"Picking up/dropping off nonhh adult\",\n",
    "    \"t040508\": \"Waiting associated with helping nonhh adults\",\n",
    "    \"t040599\": \"Helping nonhh adults, n.e.c.*\",\n",
    "    \"t049999\": \"Caring for & helping nonhh members, n.e.c.*\",\n",
    "    \"t050101\": \"Work, main job\",\n",
    "    \"t050102\": \"Work, other job(s)\",\n",
    "    \"t050103\": \"Security procedures related to work\",\n",
    "    \"t050104\": \"Waiting associated with working\",\n",
    "    \"t050199\": \"Working, n.e.c.*\",\n",
    "    \"t050201\": \"Socializing, relaxing, and leisure as part of job\",\n",
    "    \"t050202\": \"Eating and drinking as part of job\",\n",
    "    \"t050203\": \"Sports and exercise as part of job\",\n",
    "    \"t050204\": \"Security procedures as part of job\",\n",
    "    \"t050205\": \"Waiting associated with work-related activities\",\n",
    "    \"t050299\": \"Work-related activities, n.e.c.*\",\n",
    "    \"t050301\": \"Income-generating hobbies, crafts, and food\",\n",
    "    \"t050302\": \"Income-generating performances\",\n",
    "    \"t050303\": \"Income-generating services\",\n",
    "    \"t050304\": \"Income-generating rental property activities\",\n",
    "    \"t050305\": \"Waiting associated with other income-generating activities\",\n",
    "    \"t050399\": \"Other income-generating activities, n.e.c.*\",\n",
    "    \"t050401\": \"Job search activities\",\n",
    "    \"t050403\": \"Job interviewing\",\n",
    "    \"t050404\": \"Waiting associated with job search or interview\",\n",
    "    \"t050405\": \"Security procedures rel. to job search/interviewing\",\n",
    "    \"t050499\": \"Job search and Interviewing, n.e.c.*\",\n",
    "    \"t059999\": \"Work and work-related activities, n.e.c.*\",\n",
    "    \"t060101\": \"Taking class for degree, certification, or licensure\",\n",
    "    \"t060102\": \"Taking class for personal interest\",\n",
    "    \"t060103\": \"Waiting associated with taking classes\",\n",
    "    \"t060104\": \"Security procedures rel. to taking classes\",\n",
    "    \"t060199\": \"Taking class, n.e.c.*\",\n",
    "    \"t060201\": \"Extracurricular club activities\",\n",
    "    \"t060202\": \"Extracurricular music & performance activities\",\n",
    "    \"t060203\": \"Extracurricular student government activities\",\n",
    "    \"t060204\": \"Waiting associated with extracurricular activities\",\n",
    "    \"t060299\": \"Education-related extracurricular activities, n.e.c.*\",\n",
    "    \"t060301\": \"Research/homework for class for degree, certification, or licensure\",\n",
    "    \"t060302\": \"Research/homework for class for pers. interest\",\n",
    "    \"t060303\": \"Waiting associated with research/homework\",\n",
    "    \"t060399\": \"Research/homework n.e.c.*\",\n",
    "    \"t060401\": \"Administrative activities: class for degree, certification, or licensure\",\n",
    "    \"t060402\": \"Administrative activities: class for personal interest\",\n",
    "    \"t060403\": \"Waiting associated w/admin. activities (education)\",\n",
    "    \"t060499\": \"Administrative for education, n.e.c.*\",\n",
    "    \"t069999\": \"Education, n.e.c.*\",\n",
    "    \"t070101\": \"Grocery shopping\",\n",
    "    \"t070102\": \"Purchasing gas\",\n",
    "    \"t070103\": \"Purchasing food (not groceries)\",\n",
    "    \"t070104\": \"Shopping, except groceries, food and gas\",\n",
    "    \"t070105\": \"Waiting associated with shopping\",\n",
    "    \"t070199\": \"Shopping, n.e.c.*\",\n",
    "    \"t070201\": \"Comparison shopping\",\n",
    "    \"t070299\": \"Researching purchases, n.e.c.*\",\n",
    "    \"t070301\": \"Security procedures rel. to consumer purchases\",\n",
    "    \"t070399\": \"Security procedures rel. to consumer purchases, n.e.c.*\",\n",
    "    \"t079999\": \"Consumer purchases, n.e.c.*\",\n",
    "    \"t080101\": \"Using paid childcare services\",\n",
    "    \"t080102\": \"Waiting associated w/purchasing childcare svcs\",\n",
    "    \"t080199\": \"Using paid childcare services, n.e.c.*\",\n",
    "    \"t080201\": \"Banking\",\n",
    "    \"t080202\": \"Using other financial services\",\n",
    "    \"t080203\": \"Waiting associated w/banking/financial services\",\n",
    "    \"t080299\": \"Using financial services and banking, n.e.c.*\",\n",
    "    \"t080301\": \"Using legal services\",\n",
    "    \"t080302\": \"Waiting associated with legal services\",\n",
    "    \"t080399\": \"Using legal services, n.e.c.*\",\n",
    "    \"t080401\": \"Using health and care services outside the home\",\n",
    "    \"t080402\": \"Using in-home health and care services\",\n",
    "    \"t080403\": \"Waiting associated with medical services\",\n",
    "    \"t080499\": \"Using medical services, n.e.c.*\",\n",
    "    \"t080501\": \"Using personal care services\",\n",
    "    \"t080502\": \"Waiting associated w/personal care services\",\n",
    "    \"t080599\": \"Using personal care services, n.e.c.*\",\n",
    "    \"t080601\": \"Activities rel. to purchasing/selling real estate\",\n",
    "    \"t080602\": \"Waiting associated w/purchasing/selling real estate\",\n",
    "    \"t080699\": \"Using real estate services, n.e.c.*\",\n",
    "    \"t080701\": \"Using veterinary services\",\n",
    "    \"t080702\": \"Waiting associated with veterinary services\",\n",
    "    \"t080799\": \"Using veterinary services, n.e.c.*\",\n",
    "    \"t080801\": \"Security procedures rel. to professional/personal svcs.\",\n",
    "    \"t080899\": \"Security procedures rel. to professional/personal svcs n.e.c.*\",\n",
    "    \"t089999\": \"Professional and personal services, n.e.c.*\",\n",
    "    \"t090101\": \"Using interior cleaning services\",\n",
    "    \"t090102\": \"Using meal preparation services\",\n",
    "    \"t090103\": \"Using clothing repair and cleaning services\",\n",
    "    \"t090104\": \"Waiting associated with using household services\",\n",
    "    \"t090199\": \"Using household services, n.e.c.*\",\n",
    "    \"t090201\": \"Using home maint/repair/décor/construction svcs\",\n",
    "    \"t090202\": \"Waiting associated w/ home main/repair/décor/constr\",\n",
    "    \"t090299\": \"Using home maint/repair/décor/constr services, n.e.c.*\",\n",
    "    \"t090301\": \"Using pet services\",\n",
    "    \"t090302\": \"Waiting associated with pet services\",\n",
    "    \"t090399\": \"Using pet services, n.e.c.*\",\n",
    "    \"t090401\": \"Using lawn and garden services\",\n",
    "    \"t090402\": \"Waiting associated with using lawn & garden services\",\n",
    "    \"t090499\": \"Using lawn and garden services, n.e.c.*\",\n",
    "    \"t090501\": \"Using vehicle maintenance or repair services\",\n",
    "    \"t090502\": \"Waiting associated with vehicle main. or repair svcs\",\n",
    "    \"t090599\": \"Using vehicle maint. & repair svcs, n.e.c.*\",\n",
    "    \"t099999\": \"Using household services, n.e.c.*\",\n",
    "    \"t100101\": \"Using police and fire services\",\n",
    "    \"t100102\": \"Using social services\",\n",
    "    \"t100103\": \"Obtaining licenses & paying fines, fees, taxes\",\n",
    "    \"t100199\": \"Using government services, n.e.c.*\",\n",
    "    \"t100201\": \"Civic obligations & participation\",\n",
    "    \"t100299\": \"Civic obligations & participation, n.e.c.*\",\n",
    "    \"t100304\": \"Waiting associated with using government services\",\n",
    "    \"t100305\": \"Waiting associated with civic obligations & participation\",\n",
    "    \"t100399\": \"Waiting assoc. w/govt svcs or civic obligations, n.e.c.*\",\n",
    "    \"t100401\": \"Security procedures rel. to govt svcs/civic obligations\",\n",
    "    \"t100499\": \"Security procedures rel. to govt svcs/civic obligations, n.e.c.*\",\n",
    "    \"t109999\": \"Government services, n.e.c.*\",\n",
    "    \"t110101\": \"Eating and drinking\",\n",
    "    \"t110199\": \"Eating and drinking, n.e.c.*\",\n",
    "    \"t110201\": \"Waiting associated w/eating & drinking\",\n",
    "    \"t110299\": \"Waiting associated with eating & drinking, n.e.c.*\",\n",
    "    \"t119999\": \"Eating and drinking, n.e.c.*\",\n",
    "    \"t120101\": \"Socializing and communicating with others\",\n",
    "    \"t120199\": \"Socializing and communicating, n.e.c.*\",\n",
    "    \"t120201\": \"Attending or hosting parties/receptions/ceremonies\",\n",
    "    \"t120202\": \"Attending meetings for personal interest (not volunteering)\",\n",
    "    \"t120299\": \"Attending/hosting social events, n.e.c.*\",\n",
    "    \"t120301\": \"Relaxing, thinking\",\n",
    "    \"t120302\": \"Tobacco and drug use\",\n",
    "    \"t120303\": \"Television and movies (not religious)\",\n",
    "    \"t120304\": \"Television (religious)\",\n",
    "    \"t120305\": \"Listening to the radio\",\n",
    "    \"t120306\": \"Listening to/playing music (not radio)\",\n",
    "    \"t120307\": \"Playing games\",\n",
    "    \"t120308\": \"Computer use for leisure (exc. Games)\",\n",
    "    \"t120309\": \"Arts and crafts as a hobby\",\n",
    "    \"t120310\": \"Collecting as a hobby\",\n",
    "    \"t120311\": \"Hobbies, except arts & crafts and collecting\",\n",
    "    \"t120312\": \"Reading for personal interest\",\n",
    "    \"t120313\": \"Writing for personal interest\",\n",
    "    \"t120399\": \"Relaxing and leisure, n.e.c.*\",\n",
    "    \"t120401\": \"Attending performing arts\",\n",
    "    \"t120402\": \"Attending museums\",\n",
    "    \"t120403\": \"Attending movies/film\",\n",
    "    \"t120404\": \"Attending gambling establishments\",\n",
    "    \"t120405\": \"Security procedures rel. to arts & entertainment\",\n",
    "    \"t120499\": \"Arts and entertainment, n.e.c.*\",\n",
    "    \"t120501\": \"Waiting assoc. w/socializing & communicating\",\n",
    "    \"t120502\": \"Waiting assoc. w/attending/hosting social events\",\n",
    "    \"t120503\": \"Waiting associated with relaxing/leisure\",\n",
    "    \"t120504\": \"Waiting associated with arts & entertainment\",\n",
    "    \"t120599\": \"Waiting associated with socializing, n.e.c.*\",\n",
    "    \"t129999\": \"Socializing, relaxing, and leisure, n.e.c.*\",\n",
    "    \"t130101\": \"Doing aerobics\",\n",
    "    \"t130102\": \"Playing baseball\",\n",
    "    \"t130103\": \"Playing basketball\",\n",
    "    \"t130104\": \"Biking\",\n",
    "    \"t130105\": \"Playing billiards\",\n",
    "    \"t130106\": \"Boating\",\n",
    "    \"t130107\": \"Bowling\",\n",
    "    \"t130108\": \"Climbing, spelunking, caving\",\n",
    "    \"t130109\": \"Dancing\",\n",
    "    \"t130110\": \"Participating in equestrian sports\",\n",
    "    \"t130111\": \"Fencing\",\n",
    "    \"t130112\": \"Fishing\",\n",
    "    \"t130113\": \"Playing football\",\n",
    "    \"t130114\": \"Golfing\",\n",
    "    \"t130115\": \"Doing gymnastics\",\n",
    "    \"t130116\": \"Hiking\",\n",
    "    \"t130117\": \"Playing hockey\",\n",
    "    \"t130118\": \"Hunting\",\n",
    "    \"t130119\": \"Participating in martial arts\",\n",
    "    \"t130120\": \"Playing racquet sports\",\n",
    "    \"t130121\": \"Participating in rodeo competitions\",\n",
    "    \"t130122\": \"Rollerblading\",\n",
    "    \"t130123\": \"Playing rugby\",\n",
    "    \"t130124\": \"Running\",\n",
    "    \"t130125\": \"Skiing, ice skating, snowboarding\",\n",
    "    \"t130126\": \"Playing soccer\",\n",
    "    \"t130127\": \"Softball\",\n",
    "    \"t130128\": \"Using cardiovascular equipment\",\n",
    "    \"t130129\": \"Vehicle touring/racing\",\n",
    "    \"t130130\": \"Playing volleyball\",\n",
    "    \"t130131\": \"Walking\",\n",
    "    \"t130132\": \"Participating in water sports\",\n",
    "    \"t130133\": \"Weightlifting/strength training\",\n",
    "    \"t130134\": \"Working out, unspecified\",\n",
    "    \"t130135\": \"Wrestling\",\n",
    "    \"t130136\": \"Doing yoga\",\n",
    "    \"t130199\": \"Playing sports n.e.c.*\",\n",
    "    \"t130201\": \"Watching aerobics\",\n",
    "    \"t130202\": \"Watching baseball\",\n",
    "    \"t130203\": \"Watching basketball\",\n",
    "    \"t130204\": \"Watching biking\",\n",
    "    \"t130205\": \"Watching billiards\",\n",
    "    \"t130206\": \"Watching boating\",\n",
    "    \"t130207\": \"Watching bowling\",\n",
    "    \"t130208\": \"Watching climbing, spelunking, caving\",\n",
    "    \"t130209\": \"Watching dancing\",\n",
    "    \"t130210\": \"Watching equestrian sports\",\n",
    "    \"t130211\": \"Watching fencing\",\n",
    "    \"t130212\": \"Watching fishing\",\n",
    "    \"t130213\": \"Watching football\",\n",
    "    \"t130214\": \"Watching golfing\",\n",
    "    \"t130215\": \"Watching gymnastics\",\n",
    "    \"t130216\": \"Watching hockey\",\n",
    "    \"t130217\": \"Watching martial arts\",\n",
    "    \"t130218\": \"Watching racquet sports\",\n",
    "    \"t130219\": \"Watching rodeo competitions\",\n",
    "    \"t130220\": \"Watching rollerblading\",\n",
    "    \"t130221\": \"Watching rugby\",\n",
    "    \"t130222\": \"Watching running\",\n",
    "    \"t130223\": \"Watching skiing, ice skating, snowboarding\",\n",
    "    \"t130224\": \"Watching soccer\",\n",
    "    \"t130225\": \"Watching softball\",\n",
    "    \"t130226\": \"Watching vehicle touring/racing\",\n",
    "    \"t130227\": \"Watching volleyball\",\n",
    "    \"t130228\": \"Watching walking\",\n",
    "    \"t130229\": \"Watching water sports\",\n",
    "    \"t130230\": \"Watching weightlifting/strength training\",\n",
    "    \"t130231\": \"Watching people working out, unspecified\",\n",
    "    \"t130232\": \"Watching wrestling\",\n",
    "    \"t130299\": \"Attending sporting events, n.e.c.*\",\n",
    "    \"t130301\": \"Waiting related to playing sports or exercising\",\n",
    "    \"t130302\": \"Waiting related to attending sporting events\",\n",
    "    \"t130399\": \"Waiting associated with sports, exercise, & recreation, n.e.c.*\",\n",
    "    \"t130401\": \"Security related to playing sports or exercising\",\n",
    "    \"t130402\": \"Security related to attending sporting events\",\n",
    "    \"t130499\": \"Security related to sports, exercise, & recreation, n.e.c.*\",\n",
    "    \"t139999\": \"Sports, exercise, & recreation, n.e.c.*\",\n",
    "    \"t140101\": \"Attending religious services\",\n",
    "    \"t140102\": \"Participation in religious practices\",\n",
    "    \"t140103\": \"Waiting associated w/religious & spiritual activities\",\n",
    "    \"t140104\": \"Security procedures rel. to religious & spiritual activities\",\n",
    "    \"t140105\": \"Religious education activities\",\n",
    "    \"t149999\": \"Religious and spiritual activities, n.e.c.*\",\n",
    "    \"t150101\": \"Computer use\",\n",
    "    \"t150102\": \"Organizing and preparing\",\n",
    "    \"t150103\": \"Reading\",\n",
    "    \"t150104\": \"Telephone calls (except hotline counseling)\",\n",
    "    \"t150105\": \"Writing\",\n",
    "    \"t150106\": \"Fundraising\",\n",
    "    \"t150199\": \"Administrative & support activities, n.e.c.*\",\n",
    "    \"t150201\": \"Food preparation, presentation, clean-up\",\n",
    "    \"t150202\": \"Collecting & delivering clothing & other goods\",\n",
    "    \"t150203\": \"Providing care\",\n",
    "    \"t150204\": \"Teaching, leading, counseling, mentoring\",\n",
    "    \"t150299\": \"Social service & care activities, n.e.c.*\",\n",
    "    \"t150301\": \"Building houses, wildlife sites, & other structures\",\n",
    "    \"t150302\": \"Indoor & outdoor maintenance, repair, & clean-up\",\n",
    "    \"t150399\": \"Indoor & outdoor maintenance, building & clean-up activities, n.e.c.*\",\n",
    "    \"t150401\": \"Performing\",\n",
    "    \"t150402\": \"Serving at volunteer events & cultural activities\",\n",
    "    \"t150499\": \"Participating in performance & cultural activities, n.e.c.*\",\n",
    "    \"t150501\": \"Attending meetings, conferences, & training\",\n",
    "    \"t150599\": \"Attending meetings, conferences, & training, n.e.c.*\",\n",
    "    \"t150601\": \"Public health activities\",\n",
    "    \"t150602\": \"Public safety activities\",\n",
    "    \"t150699\": \"Public health & safety activities, n.e.c.*\",\n",
    "    \"t150701\": \"Waiting associated with volunteer activities\",\n",
    "    \"t150799\": \"Waiting associated with volunteer activities, n.e.c.*\",\n",
    "    \"t150801\": \"Security procedures related to volunteer activities\",\n",
    "    \"t150899\": \"Security procedures related to volunteer activities, n.e.c.*\",\n",
    "    \"t159999\": \"Volunteer activities, n.e.c.*\",\n",
    "    \"t160101\": \"Telephone calls to/from family members\",\n",
    "    \"t160102\": \"Telephone calls to/from friends, neighbors, or acquaintances\",\n",
    "    \"t160103\": \"Telephone calls to/from education services providers\",\n",
    "    \"t160104\": \"Telephone calls to/from salespeople\",\n",
    "    \"t160105\": \"Telephone calls to/from professional or personal care svcs providers\",\n",
    "    \"t160106\": \"Telephone calls to/from household services providers\",\n",
    "    \"t160107\": \"Telephone calls to/from paid child or adult care providers\",\n",
    "    \"t160108\": \"Telephone calls to/from government officials\",\n",
    "    \"t160199\": \"Telephone calls (to or from), n.e.c.*\",\n",
    "    \"t160201\": \"Waiting associated with telephone calls\",\n",
    "    \"t160299\": \"Waiting associated with telephone calls, n.e.c.*\",\n",
    "    \"t169999\": \"Telephone calls, n.e.c.*\",\n",
    "    \"t180101\": \"Travel related to personal care\",\n",
    "    \"t180199\": \"Travel related to personal care, n.e.c.*\",\n",
    "    \"t180201\": \"Travel related to housework\",\n",
    "    \"t180202\": \"Travel related to food & drink prep., clean-up, & presentation\",\n",
    "    \"t180203\": \"Travel related to interior maintenance, repair, & decoration\",\n",
    "    \"t180204\": \"Travel related to exterior maintenance, repair, & decoration\",\n",
    "    \"t180205\": \"Travel related to lawn, garden, and houseplant care\",\n",
    "    \"t180206\": \"Travel related to care for animals and pets (not vet care)\",\n",
    "    \"t180207\": \"Travel related to vehicle care & maintenance (by self)\",\n",
    "    \"t180208\": \"Travel related to appliance, tool, and toy set-up, repair, & maintenance (by self)\",\n",
    "    \"t180209\": \"Travel related to household management\",\n",
    "    \"t180299\": \"Travel related to household activities, n.e.c.*\",\n",
    "    \"t180301\": \"Travel related to caring for & helping hh children\",\n",
    "    \"t180302\": \"Travel related to hh children's education\",\n",
    "    \"t180303\": \"Travel related to hh children's health\",\n",
    "    \"t180304\": \"Travel related to caring for hh adults\",\n",
    "    \"t180305\": \"Travel related to helping hh adults\",\n",
    "    \"t180399\": \"Travel rel. to caring for & helping hh members, n.e.c.*\",\n",
    "    \"t180401\": \"Travel related to caring for and helping nonhh children\",\n",
    "    \"t180402\": \"Travel related to nonhh children's education\",\n",
    "    \"t180403\": \"Travel related to nonhh children's health\",\n",
    "    \"t180404\": \"Travel related to caring for nonhh adults\",\n",
    "    \"t180405\": \"Travel related to helping nonhh adults\",\n",
    "    \"t180499\": \"Travel rel. to caring for & helping nonhh members, n.e.c.*\",\n",
    "    \"t180501\": \"Travel related to working\",\n",
    "    \"t180502\": \"Travel related to work-related activities\",\n",
    "    \"t180503\": \"Travel related to income-generating activities\",\n",
    "    \"t180504\": \"Travel related to job search & interviewing\",\n",
    "    \"t180599\": \"Travel related to work, n.e.c.*\",\n",
    "    \"t180601\": \"Travel related to taking class\",\n",
    "    \"t180602\": \"Travel related to extracurricular activities (ex. Sports)\",\n",
    "    \"t180603\": \"Travel related to research/homework\",\n",
    "    \"t180604\": \"Travel related to registration/administrative activities\",\n",
    "    \"t180699\": \"Travel related to education, n.e.c.*\",\n",
    "    \"t180701\": \"Travel related to grocery shopping\",\n",
    "    \"t180702\": \"Travel related to purchasing gas\",\n",
    "    \"t180703\": \"Travel related to purchasing food (not groceries)\",\n",
    "    \"t180704\": \"Travel related to shopping, ex groceries, food, and gas\",\n",
    "    \"t180799\": \"Travel related to consumer purchases, n.e.c.*\",\n",
    "    \"t180801\": \"Travel related to using childcare services\",\n",
    "    \"t180802\": \"Travel related to using financial services and banking\",\n",
    "    \"t180803\": \"Travel related to using legal services\",\n",
    "    \"t180804\": \"Travel related to using medical services\",\n",
    "    \"t180805\": \"Travel related to using personal care services\",\n",
    "    \"t180806\": \"Travel related to using real estate services\",\n",
    "    \"t180807\": \"Travel related to using veterinary services\",\n",
    "    \"t180899\": \"Travel rel. to using prof. & personal care services, n.e.c.*\",\n",
    "    \"t180901\": \"Travel related to using household services\",\n",
    "    \"t180902\": \"Travel related to using home main./repair/décor./construction svcs\",\n",
    "    \"t180903\": \"Travel related to using pet services (not vet)\",\n",
    "    \"t180904\": \"Travel related to using lawn and garden services\",\n",
    "    \"t180905\": \"Travel related to using vehicle maintenance & repair services\",\n",
    "    \"t180999\": \"Travel related to using household services, n.e.c.*\",\n",
    "    \"t181001\": \"Travel related to using government services\",\n",
    "    \"t181002\": \"Travel related to civic obligations & participation\",\n",
    "    \"t181099\": \"Travel rel. to govt svcs & civic obligations, n.e.c.*\",\n",
    "    \"t181101\": \"Travel related to eating and drinking\",\n",
    "    \"t181199\": \"Travel related to eating and drinking, n.e.c.*\",\n",
    "    \"t181201\": \"Travel related to socializing and communicating\",\n",
    "    \"t181202\": \"Travel related to attending or hosting social events\",\n",
    "    \"t181203\": \"Travel related to relaxing and leisure\",\n",
    "    \"t181204\": \"Travel related to arts and entertainment\",\n",
    "    \"t181205\": \"Travel as a form of entertainment\",\n",
    "    \"t181299\": \"Travel rel. to socializing, relaxing, & leisure, n.e.c.*\",\n",
    "    \"t181301\": \"Travel related to participating in sports/exercise/recreation\",\n",
    "    \"t181302\": \"Travel related to attending sporting/recreational events\",\n",
    "    \"t181399\": \"Travel related to sports, exercise, & recreation, n.e.c.*\",\n",
    "    \"t181401\": \"Travel related to religious/spiritual practices\",\n",
    "    \"t181499\": \"Travel rel. to religious/spiritual activities, n.e.c.*\",\n",
    "    \"t181501\": \"Travel related to volunteering\",\n",
    "    \"t181599\": \"Travel related to volunteer activities, n.e.c.*\",\n",
    "    \"t181601\": \"Travel related to phone calls\",\n",
    "    \"t181699\": \"Travel rel. to phone calls, n.e.c.*\",\n",
    "    \"t181801\": \"Security procedures related to traveling\",\n",
    "    \"t181899\": \"Security procedures related to traveling, n.e.c.*\",\n",
    "    \"t189999\": \"Traveling, n.e.c.*\",\n",
    "    \"t500101\": \"Insufficient detail in verbatim\",\n",
    "    \"t500103\": \"Missing travel or destination\",\n",
    "    \"t500105\": \"Respondent refused to provide information/'none of your business'\",\n",
    "    \"t500106\": \"Gap/can't remember\",\n",
    "    \"t500107\": \"Unable to code activity at 1st tier\",\n",
    "    \"t509999\": \"Data codes, n.e.c.*\"\n",
    "})"
   ]
  },
  {
   "cell_type": "markdown",
   "metadata": {},
   "source": [
    "# Review of basic information about the study\n",
    "\n",
    "## How many people in the study"
   ]
  },
  {
   "cell_type": "code",
   "execution_count": 12,
   "metadata": {
    "collapsed": false
   },
   "outputs": [
    {
     "name": "stdout",
     "output_type": "stream",
     "text": [
      "11592\n"
     ]
    }
   ],
   "source": [
    "print(len(data_summary))"
   ]
  },
  {
   "cell_type": "markdown",
   "metadata": {},
   "source": [
    "## Review of age distribution in the study\n",
    "\n",
    "The slight uptick betwen 80 and 85 has to do with the how anyone over 80 was counted. If they were over 85 years old, they were listed as 85. If they were between the ages of 81 and 84 they were listed as 80."
   ]
  },
  {
   "cell_type": "code",
   "execution_count": 11,
   "metadata": {
    "collapsed": false
   },
   "outputs": [
    {
     "data": {
      "image/png": "[encoded data removed]",
      "text/plain": [
       "<matplotlib.figure.Figure at 0x10774b898>"
      ]
     },
     "metadata": {},
     "output_type": "display_data"
    }
   ],
   "source": [
    "data_summary[['age']].plot(kind='hist', title='Ages in Study')\n",
    "plt.show()"
   ]
  },
  {
   "cell_type": "markdown",
   "metadata": {},
   "source": [
    "## Youngest age in the study"
   ]
  },
  {
   "cell_type": "code",
   "execution_count": 13,
   "metadata": {
    "collapsed": false
   },
   "outputs": [
    {
     "data": {
      "text/plain": [
       "15"
      ]
     },
     "execution_count": 13,
     "metadata": {},
     "output_type": "execute_result"
    }
   ],
   "source": [
    "data_summary.age.min()"
   ]
  },
  {
   "cell_type": "markdown",
   "metadata": {},
   "source": [
    "## Male to Female distribution"
   ]
  },
  {
   "cell_type": "code",
   "execution_count": 10,
   "metadata": {
    "collapsed": false
   },
   "outputs": [
    {
     "data": {
      "image/png": "[encoded data removed]",
      "text/plain": [
       "<matplotlib.figure.Figure at 0x1075e8d30>"
      ]
     },
     "metadata": {},
     "output_type": "display_data"
    }
   ],
   "source": [
    "sex = data_summary.pop('sex')\n",
    "sex = sex.replace({1: 'Male', 2: 'Female'})\n",
    "data_summary['sex'] = sex\n",
    "sexes = data_summary.groupby('sex')\n",
    "sexes.age.count().plot(kind='bar', title='Male to Females')\n",
    "plt.show()"
   ]
  },
  {
   "cell_type": "markdown",
   "metadata": {
    "collapsed": false
   },
   "source": [
    "## Where did people live?"
   ]
  },
  {
   "cell_type": "code",
   "execution_count": 17,
   "metadata": {
    "collapsed": false
   },
   "outputs": [
    {
     "data": {
      "text/plain": [
       "<matplotlib.axes._subplots.AxesSubplot at 0x1096f5898>"
      ]
     },
     "execution_count": 17,
     "metadata": {},
     "output_type": "execute_result"
    },
    {
     "data": {
      "image/png": "[encoded data removed]",
      "text/plain": [
       "<matplotlib.figure.Figure at 0x109685f28>"
      ]
     },
     "metadata": {},
     "output_type": "display_data"
    }
   ],
   "source": [
    "metro = data_summary.groupby('metro')\n",
    "metro.metro.count().plot(kind='bar', title='Metro')\n",
    "# 1 Metropolitan\n",
    "# 2 Non-metropolitan\n",
    "# 3 Not identified"
   ]
  },
  {
   "cell_type": "markdown",
   "metadata": {
    "collapsed": true
   },
   "source": [
    "## Employment Status"
   ]
  },
  {
   "cell_type": "code",
   "execution_count": 19,
   "metadata": {
    "collapsed": false
   },
   "outputs": [
    {
     "data": {
      "text/plain": [
       "<matplotlib.axes._subplots.AxesSubplot at 0x10967ba58>"
      ]
     },
     "execution_count": 19,
     "metadata": {},
     "output_type": "execute_result"
    },
    {
     "data": {
      "image/png": "[encoded data removed]",
      "text/plain": [
       "<matplotlib.figure.Figure at 0x1096c1908>"
      ]
     },
     "metadata": {},
     "output_type": "display_data"
    }
   ],
   "source": [
    "employ = data_summary.groupby('labor_status')\n",
    "employ.labor_status.count().plot('pie', title='Labor Status')\n",
    "# 1 = employed, at work\n",
    "# 2 = employed, absent\n",
    "# 3 = unemployed - on layoff\n",
    "# 4 = unemployed - looking\n",
    "# 5 = Not in labor force"
   ]
  },
  {
   "cell_type": "markdown",
   "metadata": {},
   "source": [
    "## What are the ages of the employed"
   ]
  },
  {
   "cell_type": "code",
   "execution_count": 46,
   "metadata": {
    "collapsed": false
   },
   "outputs": [
    {
     "data": {
      "image/png": "[encoded data removed]",
      "text/plain": [
       "<matplotlib.figure.Figure at 0x11684d4e0>"
      ]
     },
     "metadata": {},
     "output_type": "display_data"
    },
    {
     "data": {
      "image/png": "[encoded data removed]",
      "text/plain": [
       "<matplotlib.figure.Figure at 0x11684d668>"
      ]
     },
     "metadata": {},
     "output_type": "display_data"
    }
   ],
   "source": [
    "data_summary.age[(data_summary.labor_status == 1)].plot(kind='hist', title='employed')\n",
    "data_summary[['age']].plot(kind='hist', title='Ages in Study')\n",
    "plt.show()"
   ]
  },
  {
   "cell_type": "markdown",
   "metadata": {},
   "source": [
    "## What are the ages of those not in the labor force"
   ]
  },
  {
   "cell_type": "code",
   "execution_count": 48,
   "metadata": {
    "collapsed": false
   },
   "outputs": [
    {
     "data": {
      "image/png": "[encoded data removed]",
      "text/plain": [
       "<matplotlib.figure.Figure at 0x116bf4cf8>"
      ]
     },
     "metadata": {},
     "output_type": "display_data"
    },
    {
     "data": {
      "image/png": "[encoded data removed]",
      "text/plain": [
       "<matplotlib.figure.Figure at 0x116bcfe80>"
      ]
     },
     "metadata": {},
     "output_type": "display_data"
    }
   ],
   "source": [
    "data_summary.age[(data_summary.labor_status == 5)].plot(kind='hist', title='not in labor force')\n",
    "data_summary[['age']].plot(kind='hist', title='Ages in Study')\n",
    "plt.show()"
   ]
  },
  {
   "cell_type": "markdown",
   "metadata": {},
   "source": [
    "## What are the ages of those looking for work"
   ]
  },
  {
   "cell_type": "code",
   "execution_count": 50,
   "metadata": {
    "collapsed": false
   },
   "outputs": [
    {
     "data": {
      "image/png": "[encoded data removed]",
      "text/plain": [
       "<matplotlib.figure.Figure at 0x116b700b8>"
      ]
     },
     "metadata": {},
     "output_type": "display_data"
    },
    {
     "data": {
      "image/png": "[encoded data removed]",
      "text/plain": [
       "<matplotlib.figure.Figure at 0x116b70438>"
      ]
     },
     "metadata": {},
     "output_type": "display_data"
    }
   ],
   "source": [
    "data_summary.age[(data_summary.labor_status == 4)].plot(kind='hist', title='Looking for Work')\n",
    "data_summary[['age']].plot(kind='hist', title='Ages in Study')\n",
    "plt.show()"
   ]
  }
 ],
 "metadata": {
  "kernelspec": {
   "display_name": "Python 3",
   "language": "python",
   "name": "python3"
  },
  "language_info": {
   "codemirror_mode": {
    "name": "ipython",
    "version": 3
   },
   "file_extension": ".py",
   "mimetype": "text/x-python",
   "name": "python",
   "nbconvert_exporter": "python",
   "pygments_lexer": "ipython3",
   "version": "3.4.1"
  }
 },
 "nbformat": 4,
 "nbformat_minor": 0
}
